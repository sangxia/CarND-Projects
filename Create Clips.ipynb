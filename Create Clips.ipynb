{
 "cells": [
  {
   "cell_type": "code",
   "execution_count": 1,
   "metadata": {
    "collapsed": true
   },
   "outputs": [],
   "source": [
    "import pandas as pd\n",
    "import moviepy"
   ]
  },
  {
   "cell_type": "code",
   "execution_count": 2,
   "metadata": {
    "collapsed": true
   },
   "outputs": [],
   "source": [
    "log_pathname = 'newdata/'\n",
    "log_filename = log_pathname + 'driving_log.csv'\n",
    "has_header = False\n",
    "is_relative = False\n",
    "if has_header:\n",
    "    df = pd.read_csv(log_filename)\n",
    "else:\n",
    "    df = pd.read_csv(log_filename, header=None, \\\n",
    "            names=['center','left','right','steering','throttle','brake','speed'])\n",
    "if not is_relative:\n",
    "    for col in ['center','left','right']:\n",
    "        df.loc[:,col] = df[col].apply(lambda s: s[s.index('IMG'):])\n"
   ]
  },
  {
   "cell_type": "code",
   "execution_count": 3,
   "metadata": {
    "collapsed": false
   },
   "outputs": [
    {
     "data": {
      "text/html": [
       "<div>\n",
       "<table border=\"1\" class=\"dataframe\">\n",
       "  <thead>\n",
       "    <tr style=\"text-align: right;\">\n",
       "      <th></th>\n",
       "      <th>center</th>\n",
       "      <th>left</th>\n",
       "      <th>right</th>\n",
       "      <th>steering</th>\n",
       "      <th>throttle</th>\n",
       "      <th>brake</th>\n",
       "      <th>speed</th>\n",
       "    </tr>\n",
       "  </thead>\n",
       "  <tbody>\n",
       "    <tr>\n",
       "      <th>0</th>\n",
       "      <td>IMG/center_2017_04_01_11_20_01_604.jpg</td>\n",
       "      <td>IMG/left_2017_04_01_11_20_01_604.jpg</td>\n",
       "      <td>IMG/right_2017_04_01_11_20_01_604.jpg</td>\n",
       "      <td>0.0</td>\n",
       "      <td>0.0</td>\n",
       "      <td>0</td>\n",
       "      <td>1.184398e-06</td>\n",
       "    </tr>\n",
       "    <tr>\n",
       "      <th>1</th>\n",
       "      <td>IMG/center_2017_04_01_11_20_01_673.jpg</td>\n",
       "      <td>IMG/left_2017_04_01_11_20_01_673.jpg</td>\n",
       "      <td>IMG/right_2017_04_01_11_20_01_673.jpg</td>\n",
       "      <td>0.0</td>\n",
       "      <td>0.0</td>\n",
       "      <td>0</td>\n",
       "      <td>3.393893e-06</td>\n",
       "    </tr>\n",
       "    <tr>\n",
       "      <th>2</th>\n",
       "      <td>IMG/center_2017_04_01_11_20_01_744.jpg</td>\n",
       "      <td>IMG/left_2017_04_01_11_20_01_744.jpg</td>\n",
       "      <td>IMG/right_2017_04_01_11_20_01_744.jpg</td>\n",
       "      <td>0.0</td>\n",
       "      <td>0.0</td>\n",
       "      <td>0</td>\n",
       "      <td>5.725035e-06</td>\n",
       "    </tr>\n",
       "    <tr>\n",
       "      <th>3</th>\n",
       "      <td>IMG/center_2017_04_01_11_20_01_814.jpg</td>\n",
       "      <td>IMG/left_2017_04_01_11_20_01_814.jpg</td>\n",
       "      <td>IMG/right_2017_04_01_11_20_01_814.jpg</td>\n",
       "      <td>0.0</td>\n",
       "      <td>0.0</td>\n",
       "      <td>0</td>\n",
       "      <td>1.748915e-07</td>\n",
       "    </tr>\n",
       "    <tr>\n",
       "      <th>4</th>\n",
       "      <td>IMG/center_2017_04_01_11_20_01_882.jpg</td>\n",
       "      <td>IMG/left_2017_04_01_11_20_01_882.jpg</td>\n",
       "      <td>IMG/right_2017_04_01_11_20_01_882.jpg</td>\n",
       "      <td>0.0</td>\n",
       "      <td>0.0</td>\n",
       "      <td>0</td>\n",
       "      <td>2.734326e-06</td>\n",
       "    </tr>\n",
       "  </tbody>\n",
       "</table>\n",
       "</div>"
      ],
      "text/plain": [
       "                                   center  \\\n",
       "0  IMG/center_2017_04_01_11_20_01_604.jpg   \n",
       "1  IMG/center_2017_04_01_11_20_01_673.jpg   \n",
       "2  IMG/center_2017_04_01_11_20_01_744.jpg   \n",
       "3  IMG/center_2017_04_01_11_20_01_814.jpg   \n",
       "4  IMG/center_2017_04_01_11_20_01_882.jpg   \n",
       "\n",
       "                                   left  \\\n",
       "0  IMG/left_2017_04_01_11_20_01_604.jpg   \n",
       "1  IMG/left_2017_04_01_11_20_01_673.jpg   \n",
       "2  IMG/left_2017_04_01_11_20_01_744.jpg   \n",
       "3  IMG/left_2017_04_01_11_20_01_814.jpg   \n",
       "4  IMG/left_2017_04_01_11_20_01_882.jpg   \n",
       "\n",
       "                                   right  steering  throttle  brake  \\\n",
       "0  IMG/right_2017_04_01_11_20_01_604.jpg       0.0       0.0      0   \n",
       "1  IMG/right_2017_04_01_11_20_01_673.jpg       0.0       0.0      0   \n",
       "2  IMG/right_2017_04_01_11_20_01_744.jpg       0.0       0.0      0   \n",
       "3  IMG/right_2017_04_01_11_20_01_814.jpg       0.0       0.0      0   \n",
       "4  IMG/right_2017_04_01_11_20_01_882.jpg       0.0       0.0      0   \n",
       "\n",
       "          speed  \n",
       "0  1.184398e-06  \n",
       "1  3.393893e-06  \n",
       "2  5.725035e-06  \n",
       "3  1.748915e-07  \n",
       "4  2.734326e-06  "
      ]
     },
     "execution_count": 3,
     "metadata": {},
     "output_type": "execute_result"
    }
   ],
   "source": [
    "df.head()"
   ]
  },
  {
   "cell_type": "code",
   "execution_count": 4,
   "metadata": {
    "collapsed": true
   },
   "outputs": [],
   "source": [
    "filelist = list(log_pathname + df['center'])"
   ]
  },
  {
   "cell_type": "code",
   "execution_count": 5,
   "metadata": {
    "collapsed": true
   },
   "outputs": [],
   "source": [
    "from moviepy import editor as mpy"
   ]
  },
  {
   "cell_type": "code",
   "execution_count": 6,
   "metadata": {
    "collapsed": false
   },
   "outputs": [],
   "source": [
    "clip = mpy.ImageSequenceClip(filelist, fps=24)"
   ]
  },
  {
   "cell_type": "code",
   "execution_count": 7,
   "metadata": {
    "collapsed": false
   },
   "outputs": [
    {
     "name": "stdout",
     "output_type": "stream",
     "text": [
      "[MoviePy] >>>> Building video sample-new.mp4\n",
      "[MoviePy] Writing video sample-new.mp4\n"
     ]
    },
    {
     "name": "stderr",
     "output_type": "stream",
     "text": [
      "100%|██████████| 6188/6188 [00:15<00:00, 410.66it/s]\n"
     ]
    },
    {
     "name": "stdout",
     "output_type": "stream",
     "text": [
      "[MoviePy] Done.\n",
      "[MoviePy] >>>> Video ready: sample-new.mp4 \n",
      "\n"
     ]
    }
   ],
   "source": [
    "clip.write_videofile('sample-new.mp4')"
   ]
  },
  {
   "cell_type": "code",
   "execution_count": null,
   "metadata": {
    "collapsed": true
   },
   "outputs": [],
   "source": []
  }
 ],
 "metadata": {
  "anaconda-cloud": {},
  "kernelspec": {
   "display_name": "Python [Root]",
   "language": "python",
   "name": "Python [Root]"
  },
  "language_info": {
   "codemirror_mode": {
    "name": "ipython",
    "version": 3
   },
   "file_extension": ".py",
   "mimetype": "text/x-python",
   "name": "python",
   "nbconvert_exporter": "python",
   "pygments_lexer": "ipython3",
   "version": "3.5.2"
  }
 },
 "nbformat": 4,
 "nbformat_minor": 1
}
