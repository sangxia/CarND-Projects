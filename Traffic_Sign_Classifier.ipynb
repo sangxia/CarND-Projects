{
 "cells": [
  {
   "cell_type": "markdown",
   "metadata": {},
   "source": [
    "# Self-Driving Car Engineer Nanodegree\n",
    "\n",
    "## Deep Learning\n",
    "\n",
    "## Project: Build a Traffic Sign Recognition Classifier\n",
    "\n",
    "In this notebook, a template is provided for you to implement your functionality in stages, which is required to successfully complete this project. If additional code is required that cannot be included in the notebook, be sure that the Python code is successfully imported and included in your submission if necessary. \n",
    "\n",
    "> **Note**: Once you have completed all of the code implementations, you need to finalize your work by exporting the iPython Notebook as an HTML document. Before exporting the notebook to html, all of the code cells need to have been run so that reviewers can see the final implementation and output. You can then export the notebook by using the menu above and navigating to  \\n\",\n",
    "    \"**File -> Download as -> HTML (.html)**. Include the finished document along with this notebook as your submission. \n",
    "\n",
    "In addition to implementing code, there is a writeup to complete. The writeup should be completed in a separate file, which can be either a markdown file or a pdf document. There is a [write up template](https://github.com/udacity/CarND-Traffic-Sign-Classifier-Project/blob/master/writeup_template.md) that can be used to guide the writing process. Completing the code template and writeup template will cover all of the [rubric points](https://review.udacity.com/#!/rubrics/481/view) for this project.\n",
    "\n",
    "The [rubric](https://review.udacity.com/#!/rubrics/481/view) contains \"Stand Out Suggestions\" for enhancing the project beyond the minimum requirements. The stand out suggestions are optional. If you decide to pursue the \"stand out suggestions\", you can include the code in this Ipython notebook and also discuss the results in the writeup file.\n",
    "\n",
    "\n",
    ">**Note:** Code and Markdown cells can be executed using the **Shift + Enter** keyboard shortcut. In addition, Markdown cells can be edited by typically double-clicking the cell to enter edit mode."
   ]
  },
  {
   "cell_type": "markdown",
   "metadata": {},
   "source": [
    "---\n",
    "## Step 0: Load The Data"
   ]
  },
  {
   "cell_type": "code",
   "execution_count": 1,
   "metadata": {
    "collapsed": false
   },
   "outputs": [],
   "source": [
    "# Load pickled data\n",
    "import pickle\n",
    "\n",
    "# TODO: Fill this in based on where you saved the training and testing data\n",
    "\n",
    "training_file = 'train.p'\n",
    "validation_file = 'valid.p'\n",
    "testing_file = 'test.p'\n",
    "\n",
    "with open(training_file, mode='rb') as f:\n",
    "    train = pickle.load(f)\n",
    "with open(validation_file, mode='rb') as f:\n",
    "    valid = pickle.load(f)\n",
    "with open(testing_file, mode='rb') as f:\n",
    "    test = pickle.load(f)\n",
    "    \n",
    "X_train, y_train = train['features'], train['labels']\n",
    "X_valid, y_valid = valid['features'], valid['labels']\n",
    "X_test, y_test = test['features'], test['labels']"
   ]
  },
  {
   "cell_type": "markdown",
   "metadata": {},
   "source": [
    "---\n",
    "\n",
    "## Step 1: Dataset Summary & Exploration\n",
    "\n",
    "The pickled data is a dictionary with 4 key/value pairs:\n",
    "\n",
    "- `'features'` is a 4D array containing raw pixel data of the traffic sign images, (num examples, width, height, channels).\n",
    "- `'labels'` is a 1D array containing the label/class id of the traffic sign. The file `signnames.csv` contains id -> name mappings for each id.\n",
    "- `'sizes'` is a list containing tuples, (width, height) representing the original width and height the image.\n",
    "- `'coords'` is a list containing tuples, (x1, y1, x2, y2) representing coordinates of a bounding box around the sign in the image. **THESE COORDINATES ASSUME THE ORIGINAL IMAGE. THE PICKLED DATA CONTAINS RESIZED VERSIONS (32 by 32) OF THESE IMAGES**\n",
    "\n",
    "Complete the basic data summary below. Use python, numpy and/or pandas methods to calculate the data summary rather than hard coding the results. For example, the [pandas shape method](http://pandas.pydata.org/pandas-docs/stable/generated/pandas.DataFrame.shape.html) might be useful for calculating some of the summary results. "
   ]
  },
  {
   "cell_type": "markdown",
   "metadata": {},
   "source": [
    "### Provide a Basic Summary of the Data Set Using Python, Numpy and/or Pandas"
   ]
  },
  {
   "cell_type": "code",
   "execution_count": 2,
   "metadata": {
    "collapsed": false
   },
   "outputs": [],
   "source": [
    "import pandas as pd\n",
    "import numpy as np"
   ]
  },
  {
   "cell_type": "code",
   "execution_count": 3,
   "metadata": {
    "collapsed": false
   },
   "outputs": [
    {
     "name": "stdout",
     "output_type": "stream",
     "text": [
      "Number of training examples = 34799\n",
      "Number of validation examples = 4410\n",
      "Number of testing examples = 12630\n",
      "Image data shape = (32, 32, 3)\n",
      "Number of classes = 43\n",
      "Number of classes in valid and test = 43 43\n"
     ]
    }
   ],
   "source": [
    "### Replace each question mark with the appropriate value. \n",
    "### Use python, pandas or numpy methods rather than hard coding the results\n",
    "\n",
    "# TODO: Number of training examples\n",
    "n_train = X_train.shape[0]\n",
    "n_valid = X_valid.shape[0]\n",
    "\n",
    "# TODO: Number of testing examples.\n",
    "n_test = X_test.shape[0]\n",
    "\n",
    "# TODO: What's the shape of an traffic sign image?\n",
    "image_shape = X_train.shape[1:]\n",
    "\n",
    "# TODO: How many unique classes/labels there are in the dataset.\n",
    "n_classes = len(np.unique(y_train))\n",
    "\n",
    "print(\"Number of training examples =\", n_train)\n",
    "print(\"Number of validation examples =\", n_valid)\n",
    "print(\"Number of testing examples =\", n_test)\n",
    "print(\"Image data shape =\", image_shape)\n",
    "print(\"Number of classes =\", n_classes)\n",
    "print(\"Number of classes in valid and test =\", len(np.unique(y_valid)), len(np.unique(y_test)))"
   ]
  },
  {
   "cell_type": "markdown",
   "metadata": {},
   "source": [
    "### Include an exploratory visualization of the dataset"
   ]
  },
  {
   "cell_type": "markdown",
   "metadata": {},
   "source": [
    "Visualize the German Traffic Signs Dataset using the pickled file(s). This is open ended, suggestions include: plotting traffic sign images, plotting the count of each sign, etc.\n",
    "\n",
    "The [Matplotlib](http://matplotlib.org/) [examples](http://matplotlib.org/examples/index.html) and [gallery](http://matplotlib.org/gallery.html) pages are a great resource for doing visualizations in Python.\n",
    "\n",
    "**NOTE:** It's recommended you start with something simple first. If you wish to do more, come back to it after you've completed the rest of the sections."
   ]
  },
  {
   "cell_type": "code",
   "execution_count": 4,
   "metadata": {
    "collapsed": true
   },
   "outputs": [],
   "source": [
    "### Data exploration visualization code goes here.\n",
    "### Feel free to use as many code cells as needed.\n",
    "import matplotlib.pyplot as plt\n",
    "# Visualizations will be shown in the notebook.\n",
    "%matplotlib inline"
   ]
  },
  {
   "cell_type": "code",
   "execution_count": 5,
   "metadata": {
    "collapsed": true
   },
   "outputs": [],
   "source": [
    "df = pd.read_csv('signnames.csv')"
   ]
  },
  {
   "cell_type": "code",
   "execution_count": 6,
   "metadata": {
    "collapsed": true
   },
   "outputs": [],
   "source": [
    "np.random.seed()"
   ]
  },
  {
   "cell_type": "code",
   "execution_count": 7,
   "metadata": {
    "collapsed": false
   },
   "outputs": [],
   "source": [
    "def plot_random(X, y, names, n_samples = 10):\n",
    "    \"\"\"\n",
    "    plot n_samples random signs and their names\n",
    "    \"\"\"\n",
    "    assert(X.shape[0] == y.shape[0])\n",
    "    samples = np.random.choice(X.shape[0], size = n_samples, replace=False)\n",
    "    n_per_row = 2\n",
    "    nrows = int(np.ceil(n_samples/n_per_row))\n",
    "    for i,idx in enumerate(samples):\n",
    "        plt.subplot(nrows,n_per_row,i+1)\n",
    "        plt.imshow(X[idx])\n",
    "        plt.title(names.loc[y[idx],'SignName'])\n",
    "    plt.tight_layout()\n",
    "    plt.show()"
   ]
  },
  {
   "cell_type": "code",
   "execution_count": 8,
   "metadata": {
    "collapsed": false
   },
   "outputs": [
    {
     "data": {
      "image/png": "[encoded data removed]",
      "text/plain": [
       "<matplotlib.figure.Figure at 0x7f881bc21d30>"
      ]
     },
     "metadata": {},
     "output_type": "display_data"
    }
   ],
   "source": [
    "plot_random(X_train, y_train, df, n_samples=4)"
   ]
  },
  {
   "cell_type": "markdown",
   "metadata": {},
   "source": [
    "We see that most signs seem to be centered. Some signs are very dark. There are also overlapping signs (a different traffic sign in the background, etc.) Colors of some signs seem a bit off."
   ]
  },
  {
   "cell_type": "code",
   "execution_count": 9,
   "metadata": {
    "collapsed": false
   },
   "outputs": [],
   "source": [
    "df['train_counts'] = np.bincount(y_train)\n",
    "df['train_ratio'] = df['train_counts'] / df['train_counts'].sum()\n",
    "df['valid_counts'] = np.bincount(y_valid)\n",
    "df['valid_ratio'] = df['valid_counts'] / df['valid_counts'].sum()"
   ]
  },
  {
   "cell_type": "code",
   "execution_count": 10,
   "metadata": {
    "collapsed": false
   },
   "outputs": [
    {
     "data": {
      "text/html": [
       "<div>\n",
       "<table border=\"1\" class=\"dataframe\">\n",
       "  <thead>\n",
       "    <tr style=\"text-align: right;\">\n",
       "      <th></th>\n",
       "      <th>ClassId</th>\n",
       "      <th>SignName</th>\n",
       "      <th>train_counts</th>\n",
       "      <th>train_ratio</th>\n",
       "      <th>valid_counts</th>\n",
       "      <th>valid_ratio</th>\n",
       "    </tr>\n",
       "  </thead>\n",
       "  <tbody>\n",
       "    <tr>\n",
       "      <th>0</th>\n",
       "      <td>0</td>\n",
       "      <td>Speed limit (20km/h)</td>\n",
       "      <td>180</td>\n",
       "      <td>0.005173</td>\n",
       "      <td>30</td>\n",
       "      <td>0.006803</td>\n",
       "    </tr>\n",
       "    <tr>\n",
       "      <th>1</th>\n",
       "      <td>1</td>\n",
       "      <td>Speed limit (30km/h)</td>\n",
       "      <td>1980</td>\n",
       "      <td>0.056898</td>\n",
       "      <td>240</td>\n",
       "      <td>0.054422</td>\n",
       "    </tr>\n",
       "    <tr>\n",
       "      <th>2</th>\n",
       "      <td>2</td>\n",
       "      <td>Speed limit (50km/h)</td>\n",
       "      <td>2010</td>\n",
       "      <td>0.057760</td>\n",
       "      <td>240</td>\n",
       "      <td>0.054422</td>\n",
       "    </tr>\n",
       "    <tr>\n",
       "      <th>3</th>\n",
       "      <td>3</td>\n",
       "      <td>Speed limit (60km/h)</td>\n",
       "      <td>1260</td>\n",
       "      <td>0.036208</td>\n",
       "      <td>150</td>\n",
       "      <td>0.034014</td>\n",
       "    </tr>\n",
       "    <tr>\n",
       "      <th>4</th>\n",
       "      <td>4</td>\n",
       "      <td>Speed limit (70km/h)</td>\n",
       "      <td>1770</td>\n",
       "      <td>0.050864</td>\n",
       "      <td>210</td>\n",
       "      <td>0.047619</td>\n",
       "    </tr>\n",
       "    <tr>\n",
       "      <th>5</th>\n",
       "      <td>5</td>\n",
       "      <td>Speed limit (80km/h)</td>\n",
       "      <td>1650</td>\n",
       "      <td>0.047415</td>\n",
       "      <td>210</td>\n",
       "      <td>0.047619</td>\n",
       "    </tr>\n",
       "    <tr>\n",
       "      <th>6</th>\n",
       "      <td>6</td>\n",
       "      <td>End of speed limit (80km/h)</td>\n",
       "      <td>360</td>\n",
       "      <td>0.010345</td>\n",
       "      <td>60</td>\n",
       "      <td>0.013605</td>\n",
       "    </tr>\n",
       "    <tr>\n",
       "      <th>7</th>\n",
       "      <td>7</td>\n",
       "      <td>Speed limit (100km/h)</td>\n",
       "      <td>1290</td>\n",
       "      <td>0.037070</td>\n",
       "      <td>150</td>\n",
       "      <td>0.034014</td>\n",
       "    </tr>\n",
       "    <tr>\n",
       "      <th>8</th>\n",
       "      <td>8</td>\n",
       "      <td>Speed limit (120km/h)</td>\n",
       "      <td>1260</td>\n",
       "      <td>0.036208</td>\n",
       "      <td>150</td>\n",
       "      <td>0.034014</td>\n",
       "    </tr>\n",
       "    <tr>\n",
       "      <th>9</th>\n",
       "      <td>9</td>\n",
       "      <td>No passing</td>\n",
       "      <td>1320</td>\n",
       "      <td>0.037932</td>\n",
       "      <td>150</td>\n",
       "      <td>0.034014</td>\n",
       "    </tr>\n",
       "    <tr>\n",
       "      <th>10</th>\n",
       "      <td>10</td>\n",
       "      <td>No passing for vehicles over 3.5 metric tons</td>\n",
       "      <td>1800</td>\n",
       "      <td>0.051726</td>\n",
       "      <td>210</td>\n",
       "      <td>0.047619</td>\n",
       "    </tr>\n",
       "    <tr>\n",
       "      <th>11</th>\n",
       "      <td>11</td>\n",
       "      <td>Right-of-way at the next intersection</td>\n",
       "      <td>1170</td>\n",
       "      <td>0.033622</td>\n",
       "      <td>150</td>\n",
       "      <td>0.034014</td>\n",
       "    </tr>\n",
       "    <tr>\n",
       "      <th>12</th>\n",
       "      <td>12</td>\n",
       "      <td>Priority road</td>\n",
       "      <td>1890</td>\n",
       "      <td>0.054312</td>\n",
       "      <td>210</td>\n",
       "      <td>0.047619</td>\n",
       "    </tr>\n",
       "    <tr>\n",
       "      <th>13</th>\n",
       "      <td>13</td>\n",
       "      <td>Yield</td>\n",
       "      <td>1920</td>\n",
       "      <td>0.055174</td>\n",
       "      <td>240</td>\n",
       "      <td>0.054422</td>\n",
       "    </tr>\n",
       "    <tr>\n",
       "      <th>14</th>\n",
       "      <td>14</td>\n",
       "      <td>Stop</td>\n",
       "      <td>690</td>\n",
       "      <td>0.019828</td>\n",
       "      <td>90</td>\n",
       "      <td>0.020408</td>\n",
       "    </tr>\n",
       "    <tr>\n",
       "      <th>15</th>\n",
       "      <td>15</td>\n",
       "      <td>No vehicles</td>\n",
       "      <td>540</td>\n",
       "      <td>0.015518</td>\n",
       "      <td>90</td>\n",
       "      <td>0.020408</td>\n",
       "    </tr>\n",
       "    <tr>\n",
       "      <th>16</th>\n",
       "      <td>16</td>\n",
       "      <td>Vehicles over 3.5 metric tons prohibited</td>\n",
       "      <td>360</td>\n",
       "      <td>0.010345</td>\n",
       "      <td>60</td>\n",
       "      <td>0.013605</td>\n",
       "    </tr>\n",
       "    <tr>\n",
       "      <th>17</th>\n",
       "      <td>17</td>\n",
       "      <td>No entry</td>\n",
       "      <td>990</td>\n",
       "      <td>0.028449</td>\n",
       "      <td>120</td>\n",
       "      <td>0.027211</td>\n",
       "    </tr>\n",
       "    <tr>\n",
       "      <th>18</th>\n",
       "      <td>18</td>\n",
       "      <td>General caution</td>\n",
       "      <td>1080</td>\n",
       "      <td>0.031035</td>\n",
       "      <td>120</td>\n",
       "      <td>0.027211</td>\n",
       "    </tr>\n",
       "    <tr>\n",
       "      <th>19</th>\n",
       "      <td>19</td>\n",
       "      <td>Dangerous curve to the left</td>\n",
       "      <td>180</td>\n",
       "      <td>0.005173</td>\n",
       "      <td>30</td>\n",
       "      <td>0.006803</td>\n",
       "    </tr>\n",
       "    <tr>\n",
       "      <th>20</th>\n",
       "      <td>20</td>\n",
       "      <td>Dangerous curve to the right</td>\n",
       "      <td>300</td>\n",
       "      <td>0.008621</td>\n",
       "      <td>60</td>\n",
       "      <td>0.013605</td>\n",
       "    </tr>\n",
       "    <tr>\n",
       "      <th>21</th>\n",
       "      <td>21</td>\n",
       "      <td>Double curve</td>\n",
       "      <td>270</td>\n",
       "      <td>0.007759</td>\n",
       "      <td>60</td>\n",
       "      <td>0.013605</td>\n",
       "    </tr>\n",
       "    <tr>\n",
       "      <th>22</th>\n",
       "      <td>22</td>\n",
       "      <td>Bumpy road</td>\n",
       "      <td>330</td>\n",
       "      <td>0.009483</td>\n",
       "      <td>60</td>\n",
       "      <td>0.013605</td>\n",
       "    </tr>\n",
       "    <tr>\n",
       "      <th>23</th>\n",
       "      <td>23</td>\n",
       "      <td>Slippery road</td>\n",
       "      <td>450</td>\n",
       "      <td>0.012931</td>\n",
       "      <td>60</td>\n",
       "      <td>0.013605</td>\n",
       "    </tr>\n",
       "    <tr>\n",
       "      <th>24</th>\n",
       "      <td>24</td>\n",
       "      <td>Road narrows on the right</td>\n",
       "      <td>240</td>\n",
       "      <td>0.006897</td>\n",
       "      <td>30</td>\n",
       "      <td>0.006803</td>\n",
       "    </tr>\n",
       "    <tr>\n",
       "      <th>25</th>\n",
       "      <td>25</td>\n",
       "      <td>Road work</td>\n",
       "      <td>1350</td>\n",
       "      <td>0.038794</td>\n",
       "      <td>150</td>\n",
       "      <td>0.034014</td>\n",
       "    </tr>\n",
       "    <tr>\n",
       "      <th>26</th>\n",
       "      <td>26</td>\n",
       "      <td>Traffic signals</td>\n",
       "      <td>540</td>\n",
       "      <td>0.015518</td>\n",
       "      <td>60</td>\n",
       "      <td>0.013605</td>\n",
       "    </tr>\n",
       "    <tr>\n",
       "      <th>27</th>\n",
       "      <td>27</td>\n",
       "      <td>Pedestrians</td>\n",
       "      <td>210</td>\n",
       "      <td>0.006035</td>\n",
       "      <td>30</td>\n",
       "      <td>0.006803</td>\n",
       "    </tr>\n",
       "    <tr>\n",
       "      <th>28</th>\n",
       "      <td>28</td>\n",
       "      <td>Children crossing</td>\n",
       "      <td>480</td>\n",
       "      <td>0.013793</td>\n",
       "      <td>60</td>\n",
       "      <td>0.013605</td>\n",
       "    </tr>\n",
       "    <tr>\n",
       "      <th>29</th>\n",
       "      <td>29</td>\n",
       "      <td>Bicycles crossing</td>\n",
       "      <td>240</td>\n",
       "      <td>0.006897</td>\n",
       "      <td>30</td>\n",
       "      <td>0.006803</td>\n",
       "    </tr>\n",
       "    <tr>\n",
       "      <th>30</th>\n",
       "      <td>30</td>\n",
       "      <td>Beware of ice/snow</td>\n",
       "      <td>390</td>\n",
       "      <td>0.011207</td>\n",
       "      <td>60</td>\n",
       "      <td>0.013605</td>\n",
       "    </tr>\n",
       "    <tr>\n",
       "      <th>31</th>\n",
       "      <td>31</td>\n",
       "      <td>Wild animals crossing</td>\n",
       "      <td>690</td>\n",
       "      <td>0.019828</td>\n",
       "      <td>90</td>\n",
       "      <td>0.020408</td>\n",
       "    </tr>\n",
       "    <tr>\n",
       "      <th>32</th>\n",
       "      <td>32</td>\n",
       "      <td>End of all speed and passing limits</td>\n",
       "      <td>210</td>\n",
       "      <td>0.006035</td>\n",
       "      <td>30</td>\n",
       "      <td>0.006803</td>\n",
       "    </tr>\n",
       "    <tr>\n",
       "      <th>33</th>\n",
       "      <td>33</td>\n",
       "      <td>Turn right ahead</td>\n",
       "      <td>599</td>\n",
       "      <td>0.017213</td>\n",
       "      <td>90</td>\n",
       "      <td>0.020408</td>\n",
       "    </tr>\n",
       "    <tr>\n",
       "      <th>34</th>\n",
       "      <td>34</td>\n",
       "      <td>Turn left ahead</td>\n",
       "      <td>360</td>\n",
       "      <td>0.010345</td>\n",
       "      <td>60</td>\n",
       "      <td>0.013605</td>\n",
       "    </tr>\n",
       "    <tr>\n",
       "      <th>35</th>\n",
       "      <td>35</td>\n",
       "      <td>Ahead only</td>\n",
       "      <td>1080</td>\n",
       "      <td>0.031035</td>\n",
       "      <td>120</td>\n",
       "      <td>0.027211</td>\n",
       "    </tr>\n",
       "    <tr>\n",
       "      <th>36</th>\n",
       "      <td>36</td>\n",
       "      <td>Go straight or right</td>\n",
       "      <td>330</td>\n",
       "      <td>0.009483</td>\n",
       "      <td>60</td>\n",
       "      <td>0.013605</td>\n",
       "    </tr>\n",
       "    <tr>\n",
       "      <th>37</th>\n",
       "      <td>37</td>\n",
       "      <td>Go straight or left</td>\n",
       "      <td>180</td>\n",
       "      <td>0.005173</td>\n",
       "      <td>30</td>\n",
       "      <td>0.006803</td>\n",
       "    </tr>\n",
       "    <tr>\n",
       "      <th>38</th>\n",
       "      <td>38</td>\n",
       "      <td>Keep right</td>\n",
       "      <td>1860</td>\n",
       "      <td>0.053450</td>\n",
       "      <td>210</td>\n",
       "      <td>0.047619</td>\n",
       "    </tr>\n",
       "    <tr>\n",
       "      <th>39</th>\n",
       "      <td>39</td>\n",
       "      <td>Keep left</td>\n",
       "      <td>270</td>\n",
       "      <td>0.007759</td>\n",
       "      <td>30</td>\n",
       "      <td>0.006803</td>\n",
       "    </tr>\n",
       "    <tr>\n",
       "      <th>40</th>\n",
       "      <td>40</td>\n",
       "      <td>Roundabout mandatory</td>\n",
       "      <td>300</td>\n",
       "      <td>0.008621</td>\n",
       "      <td>60</td>\n",
       "      <td>0.013605</td>\n",
       "    </tr>\n",
       "    <tr>\n",
       "      <th>41</th>\n",
       "      <td>41</td>\n",
       "      <td>End of no passing</td>\n",
       "      <td>210</td>\n",
       "      <td>0.006035</td>\n",
       "      <td>30</td>\n",
       "      <td>0.006803</td>\n",
       "    </tr>\n",
       "    <tr>\n",
       "      <th>42</th>\n",
       "      <td>42</td>\n",
       "      <td>End of no passing by vehicles over 3.5 metric ...</td>\n",
       "      <td>210</td>\n",
       "      <td>0.006035</td>\n",
       "      <td>30</td>\n",
       "      <td>0.006803</td>\n",
       "    </tr>\n",
       "  </tbody>\n",
       "</table>\n",
       "</div>"
      ],
      "text/plain": [
       "    ClassId                                           SignName  train_counts  \\\n",
       "0         0                               Speed limit (20km/h)           180   \n",
       "1         1                               Speed limit (30km/h)          1980   \n",
       "2         2                               Speed limit (50km/h)          2010   \n",
       "3         3                               Speed limit (60km/h)          1260   \n",
       "4         4                               Speed limit (70km/h)          1770   \n",
       "5         5                               Speed limit (80km/h)          1650   \n",
       "6         6                        End of speed limit (80km/h)           360   \n",
       "7         7                              Speed limit (100km/h)          1290   \n",
       "8         8                              Speed limit (120km/h)          1260   \n",
       "9         9                                         No passing          1320   \n",
       "10       10       No passing for vehicles over 3.5 metric tons          1800   \n",
       "11       11              Right-of-way at the next intersection          1170   \n",
       "12       12                                      Priority road          1890   \n",
       "13       13                                              Yield          1920   \n",
       "14       14                                               Stop           690   \n",
       "15       15                                        No vehicles           540   \n",
       "16       16           Vehicles over 3.5 metric tons prohibited           360   \n",
       "17       17                                           No entry           990   \n",
       "18       18                                    General caution          1080   \n",
       "19       19                        Dangerous curve to the left           180   \n",
       "20       20                       Dangerous curve to the right           300   \n",
       "21       21                                       Double curve           270   \n",
       "22       22                                         Bumpy road           330   \n",
       "23       23                                      Slippery road           450   \n",
       "24       24                          Road narrows on the right           240   \n",
       "25       25                                          Road work          1350   \n",
       "26       26                                    Traffic signals           540   \n",
       "27       27                                        Pedestrians           210   \n",
       "28       28                                  Children crossing           480   \n",
       "29       29                                  Bicycles crossing           240   \n",
       "30       30                                 Beware of ice/snow           390   \n",
       "31       31                              Wild animals crossing           690   \n",
       "32       32                End of all speed and passing limits           210   \n",
       "33       33                                   Turn right ahead           599   \n",
       "34       34                                    Turn left ahead           360   \n",
       "35       35                                         Ahead only          1080   \n",
       "36       36                               Go straight or right           330   \n",
       "37       37                                Go straight or left           180   \n",
       "38       38                                         Keep right          1860   \n",
       "39       39                                          Keep left           270   \n",
       "40       40                               Roundabout mandatory           300   \n",
       "41       41                                  End of no passing           210   \n",
       "42       42  End of no passing by vehicles over 3.5 metric ...           210   \n",
       "\n",
       "    train_ratio  valid_counts  valid_ratio  \n",
       "0      0.005173            30     0.006803  \n",
       "1      0.056898           240     0.054422  \n",
       "2      0.057760           240     0.054422  \n",
       "3      0.036208           150     0.034014  \n",
       "4      0.050864           210     0.047619  \n",
       "5      0.047415           210     0.047619  \n",
       "6      0.010345            60     0.013605  \n",
       "7      0.037070           150     0.034014  \n",
       "8      0.036208           150     0.034014  \n",
       "9      0.037932           150     0.034014  \n",
       "10     0.051726           210     0.047619  \n",
       "11     0.033622           150     0.034014  \n",
       "12     0.054312           210     0.047619  \n",
       "13     0.055174           240     0.054422  \n",
       "14     0.019828            90     0.020408  \n",
       "15     0.015518            90     0.020408  \n",
       "16     0.010345            60     0.013605  \n",
       "17     0.028449           120     0.027211  \n",
       "18     0.031035           120     0.027211  \n",
       "19     0.005173            30     0.006803  \n",
       "20     0.008621            60     0.013605  \n",
       "21     0.007759            60     0.013605  \n",
       "22     0.009483            60     0.013605  \n",
       "23     0.012931            60     0.013605  \n",
       "24     0.006897            30     0.006803  \n",
       "25     0.038794           150     0.034014  \n",
       "26     0.015518            60     0.013605  \n",
       "27     0.006035            30     0.006803  \n",
       "28     0.013793            60     0.013605  \n",
       "29     0.006897            30     0.006803  \n",
       "30     0.011207            60     0.013605  \n",
       "31     0.019828            90     0.020408  \n",
       "32     0.006035            30     0.006803  \n",
       "33     0.017213            90     0.020408  \n",
       "34     0.010345            60     0.013605  \n",
       "35     0.031035           120     0.027211  \n",
       "36     0.009483            60     0.013605  \n",
       "37     0.005173            30     0.006803  \n",
       "38     0.053450           210     0.047619  \n",
       "39     0.007759            30     0.006803  \n",
       "40     0.008621            60     0.013605  \n",
       "41     0.006035            30     0.006803  \n",
       "42     0.006035            30     0.006803  "
      ]
     },
     "execution_count": 10,
     "metadata": {},
     "output_type": "execute_result"
    }
   ],
   "source": [
    "df"
   ]
  },
  {
   "cell_type": "markdown",
   "metadata": {},
   "source": [
    "----\n",
    "\n",
    "## Step 2: Design and Test a Model Architecture\n",
    "\n",
    "Design and implement a deep learning model that learns to recognize traffic signs. Train and test your model on the [German Traffic Sign Dataset](http://benchmark.ini.rub.de/?section=gtsrb&subsection=dataset).\n",
    "\n",
    "The LeNet-5 implementation shown in the [classroom](https://classroom.udacity.com/nanodegrees/nd013/parts/fbf77062-5703-404e-b60c-95b78b2f3f9e/modules/6df7ae49-c61c-4bb2-a23e-6527e69209ec/lessons/601ae704-1035-4287-8b11-e2c2716217ad/concepts/d4aca031-508f-4e0b-b493-e7b706120f81) at the end of the CNN lesson is a solid starting point. You'll have to change the number of classes and possibly the preprocessing, but aside from that it's plug and play! \n",
    "\n",
    "With the LeNet-5 solution from the lecture, you should expect a validation set accuracy of about 0.89. To meet specifications, the validation set accuracy will need to be at least 0.93. It is possible to get an even higher accuracy, but 0.93 is the minimum for a successful project submission. \n",
    "\n",
    "There are various aspects to consider when thinking about this problem:\n",
    "\n",
    "- Neural network architecture (is the network over or underfitting?)\n",
    "- Play around preprocessing techniques (normalization, rgb to grayscale, etc)\n",
    "- Number of examples per label (some have more than others).\n",
    "- Generate fake data.\n",
    "\n",
    "Here is an example of a [published baseline model on this problem](http://yann.lecun.com/exdb/publis/pdf/sermanet-ijcnn-11.pdf). It's not required to be familiar with the approach used in the paper but, it's good practice to try to read papers like these."
   ]
  },
  {
   "cell_type": "markdown",
   "metadata": {},
   "source": [
    "### Pre-process the Data Set (normalization, grayscale, etc.)"
   ]
  },
  {
   "cell_type": "markdown",
   "metadata": {},
   "source": [
    "Use the code cell (or multiple code cells, if necessary) to implement the first step of your project."
   ]
  },
  {
   "cell_type": "code",
   "execution_count": 179,
   "metadata": {
    "collapsed": false
   },
   "outputs": [],
   "source": [
    "### Preprocess the data here. Preprocessing steps could include normalization, converting to grayscale, etc.\n",
    "### Feel free to use as many code cells as needed.\n",
    "\n",
    "def data_normalization(X):\n",
    "    \"\"\"per image centering and clipping\"\"\"\n",
    "    mu = np.mean(X, axis=(1,2,3))\n",
    "    sigma = np.std(X, axis=(1,2,3))\n",
    "    mu = np.expand_dims(np.expand_dims(np.expand_dims(mu,-1), -1), -1)\n",
    "    sigma = np.expand_dims(np.expand_dims(np.expand_dims(sigma,-1), -1), -1)\n",
    "    return np.clip((X-mu)/sigma, -7.5,7.5)\n"
   ]
  },
  {
   "cell_type": "code",
   "execution_count": 180,
   "metadata": {
    "collapsed": false
   },
   "outputs": [],
   "source": [
    "X_train_norm = data_normalization(X_train)\n",
    "X_valid_norm = data_normalization(X_valid)\n",
    "X_test_norm = data_normalization(X_test)"
   ]
  },
  {
   "cell_type": "markdown",
   "metadata": {},
   "source": [
    "### A function to shuffle the data"
   ]
  },
  {
   "cell_type": "code",
   "execution_count": 13,
   "metadata": {
    "collapsed": true
   },
   "outputs": [],
   "source": [
    "from sklearn.utils import shuffle\n",
    "\n",
    "def shuffle_data(X,y):\n",
    "    return shuffle(X,y)"
   ]
  },
  {
   "cell_type": "markdown",
   "metadata": {},
   "source": [
    "### Model Architecture"
   ]
  },
  {
   "cell_type": "code",
   "execution_count": 14,
   "metadata": {
    "collapsed": true
   },
   "outputs": [],
   "source": [
    "import tensorflow as tf"
   ]
  },
  {
   "cell_type": "code",
   "execution_count": 158,
   "metadata": {
    "collapsed": true
   },
   "outputs": [],
   "source": [
    "def rotate_op(x, rotate):\n",
    "    return tf.contrib.image.rotate(x, tf.truncated_normal([tf.shape(x)[0]], mean=0, stddev=rotate))\n",
    "\n",
    "def shift_op(x, shift,zoom):\n",
    "    shift_matrix = tf.concat(\\\n",
    "        [tf.random_uniform([tf.shape(x)[0],1], 1/zoom, zoom), tf.zeros([tf.shape(x)[0],1]), \\\n",
    "         tf.cast(tf.random_uniform([tf.shape(x)[0],1], -shift, shift+1, dtype=tf.int32), tf.float32), \\\n",
    "         tf.zeros([tf.shape(x)[0],1]), tf.random_uniform([tf.shape(x)[0],1], 1/zoom, zoom), \\\n",
    "         tf.cast(tf.random_uniform([tf.shape(x)[0],1], -shift, shift+1, dtype=tf.int32), tf.float32), \\\n",
    "         tf.zeros([tf.shape(x)[0],1]), tf.zeros([tf.shape(x)[0],1]), \\\n",
    "        ], 1)\n",
    "    return tf.contrib.image.transform(x, shift_matrix)"
   ]
  },
  {
   "cell_type": "code",
   "execution_count": 159,
   "metadata": {
    "collapsed": false
   },
   "outputs": [],
   "source": [
    "### Define your architecture here.\n",
    "### Feel free to use as many code cells as needed.\n",
    "\n",
    "def Net(x, kp, rotate, shift, zoom):\n",
    "    init_sigma = 0.08\n",
    "    weights = []\n",
    "    \n",
    "    x_aug = rotate_op(x, rotate)\n",
    "    x_aug = shift_op(x, shift, zoom)\n",
    "    \n",
    "    wc1 = tf.Variable(tf.random_normal((5,5,3,16), mean=0, stddev=init_sigma))\n",
    "    bc1 = tf.Variable(tf.random_normal((16,), mean=0, stddev=init_sigma))\n",
    "    conv1 = tf.nn.conv2d(x_aug, wc1, strides=[1,1,1,1], padding='SAME') + bc1\n",
    "    conv1 = tf.nn.relu(conv1)\n",
    "    conv1 = tf.nn.max_pool(conv1, [1,2,2,1], [1,2,2,1], padding='VALID')\n",
    "    weights += [wc1, bc1]\n",
    "    \n",
    "    wc2 = tf.Variable(tf.random_normal((5,5,16,32), mean=0, stddev=init_sigma))\n",
    "    bc2 = tf.Variable(tf.random_normal((32,), mean=0, stddev=init_sigma))\n",
    "    conv2 = tf.nn.conv2d(conv1, wc2, strides=[1,1,1,1], padding='SAME') + bc2\n",
    "    conv2 = tf.nn.relu(conv2)\n",
    "    conv2 = tf.nn.max_pool(conv2, [1,2,2,1], [1,2,2,1], padding='VALID')\n",
    "    weights += [wc2, bc2]\n",
    "    \n",
    "    flatten = tf.reshape(conv2, [-1, 8*8*32])\n",
    "    flatten = tf.nn.dropout(flatten, kp)\n",
    "    \n",
    "    wd1 = tf.Variable(tf.random_normal((8*8*32, 1024), mean=0, stddev=init_sigma))\n",
    "    bd1 = tf.Variable(tf.random_normal((1024,), mean=0, stddev=init_sigma))\n",
    "    dense1 = tf.matmul(flatten, wd1) + bd1\n",
    "    dense1 = tf.nn.relu(dense1)\n",
    "    dense1 = tf.nn.dropout(dense1, kp)\n",
    "    weights += [wd1, bd1]\n",
    "    \n",
    "    wd3 = tf.Variable(tf.random_normal((1024,43), mean=0, stddev=init_sigma))\n",
    "    bd3 = tf.Variable(tf.random_normal((43,), mean=0, stddev=init_sigma))\n",
    "    dense3 = tf.matmul(dense1, wd3) + bd3\n",
    "    weights += [wd3, bd3]\n",
    "    \n",
    "    return dense3, sum(tf.nn.l2_loss(w) for w in weights)"
   ]
  },
  {
   "cell_type": "code",
   "execution_count": 160,
   "metadata": {
    "collapsed": true
   },
   "outputs": [],
   "source": [
    "X_input = tf.placeholder(tf.float32, [None,32,32,3])\n",
    "y_input = tf.placeholder(tf.int32, [None])\n",
    "y_one_hot = tf.one_hot(y_input, 43)\n",
    "keep_prob = tf.placeholder(tf.float32, shape=[])\n",
    "rotate_range = tf.placeholder(tf.float32, shape=[])\n",
    "shift_range = tf.placeholder(tf.int32, shape=[])\n",
    "zoom_range = tf.placeholder(tf.float32, shape=[])"
   ]
  },
  {
   "cell_type": "code",
   "execution_count": 161,
   "metadata": {
    "collapsed": false
   },
   "outputs": [],
   "source": [
    "trafficnet, reg = Net(X_input, keep_prob, rotate_range, shift_range, zoom_range)"
   ]
  },
  {
   "cell_type": "code",
   "execution_count": 18,
   "metadata": {
    "collapsed": false
   },
   "outputs": [
    {
     "data": {
      "text/plain": [
       "TensorShape([Dimension(None), Dimension(43)])"
      ]
     },
     "execution_count": 18,
     "metadata": {},
     "output_type": "execute_result"
    }
   ],
   "source": [
    "trafficnet.get_shape()"
   ]
  },
  {
   "cell_type": "code",
   "execution_count": 85,
   "metadata": {
    "collapsed": false
   },
   "outputs": [
    {
     "data": {
      "text/plain": [
       "<tf.Tensor 'Shape_23:0' shape=(?,) dtype=int32>"
      ]
     },
     "execution_count": 85,
     "metadata": {},
     "output_type": "execute_result"
    }
   ],
   "source": [
    "tf.shape(rotate_range)"
   ]
  },
  {
   "cell_type": "code",
   "execution_count": 86,
   "metadata": {
    "collapsed": false
   },
   "outputs": [
    {
     "data": {
      "text/plain": [
       "<tf.Tensor 'Shape_24:0' shape=(4,) dtype=int32>"
      ]
     },
     "execution_count": 86,
     "metadata": {},
     "output_type": "execute_result"
    }
   ],
   "source": [
    "tf.shape(X_input)"
   ]
  },
  {
   "cell_type": "code",
   "execution_count": 87,
   "metadata": {
    "collapsed": false
   },
   "outputs": [
    {
     "data": {
      "text/plain": [
       "<tf.Tensor 'Shape_25:0' shape=(?,) dtype=int32>"
      ]
     },
     "execution_count": 87,
     "metadata": {},
     "output_type": "execute_result"
    }
   ],
   "source": [
    "tf.shape(keep_prob)"
   ]
  },
  {
   "cell_type": "markdown",
   "metadata": {},
   "source": [
    "### Train, Validate and Test the Model"
   ]
  },
  {
   "cell_type": "markdown",
   "metadata": {},
   "source": [
    "A validation set can be used to assess how well the model is performing. A low accuracy on the training and validation\n",
    "sets imply underfitting. A high accuracy on the training set but low accuracy on the validation set implies overfitting."
   ]
  },
  {
   "cell_type": "code",
   "execution_count": 162,
   "metadata": {
    "collapsed": true
   },
   "outputs": [],
   "source": [
    "### Train your model here.\n",
    "### Calculate and report the accuracy on the training and validation set.\n",
    "### Once a final model architecture is selected, \n",
    "### the accuracy on the test set should be calculated and reported as well.\n",
    "### Feel free to use as many code cells as needed.\n",
    "\n",
    "epochs = 30\n",
    "batch_size = 1024\n",
    "learning_rate = 0.001\n",
    "beta = 0.001\n",
    "\n",
    "cross_entropy = tf.nn.softmax_cross_entropy_with_logits(logits=trafficnet, labels=y_one_hot)\n",
    "loss = tf.reduce_mean(cross_entropy) + beta*reg\n",
    "optimizer = tf.train.AdamOptimizer(learning_rate=learning_rate)\n",
    "train_op = optimizer.minimize(loss)"
   ]
  },
  {
   "cell_type": "code",
   "execution_count": 163,
   "metadata": {
    "collapsed": false
   },
   "outputs": [],
   "source": [
    "def evaluate(X_data, y_data):\n",
    "    sess = tf.get_default_session()\n",
    "    accuracy = tf.reduce_sum(tf.cast(tf.equal(tf.argmax(trafficnet, 1), tf.argmax(y_one_hot,1)), tf.float32))\n",
    "    total_accuracy = 0\n",
    "    for start in range(0, X_data.shape[0], batch_size):\n",
    "        total_accuracy += sess.run(accuracy, feed_dict={\\\n",
    "                        X_input:X_data[start:start+batch_size], \\\n",
    "                        y_input:y_data[start:start+batch_size], \\\n",
    "                        keep_prob:1., \\\n",
    "                        rotate_range: 0, shift_range:0, zoom_range:1.})\n",
    "    return 1.0*total_accuracy / X_data.shape[0]\n",
    "        "
   ]
  },
  {
   "cell_type": "code",
   "execution_count": 164,
   "metadata": {
    "collapsed": true
   },
   "outputs": [],
   "source": [
    "config = tf.ConfigProto()\n",
    "config.gpu_options.per_process_gpu_memory_fraction = 0.8"
   ]
  },
  {
   "cell_type": "code",
   "execution_count": 181,
   "metadata": {
    "collapsed": false
   },
   "outputs": [
    {
     "name": "stdout",
     "output_type": "stream",
     "text": [
      "epoch  0\n",
      "validation accuracy 0.487\n",
      "epoch  1\n",
      "validation accuracy 0.717\n",
      "epoch  2\n",
      "validation accuracy 0.807\n",
      "epoch  3\n",
      "validation accuracy 0.838\n",
      "epoch  4\n",
      "validation accuracy 0.843\n",
      "epoch  5\n",
      "validation accuracy 0.877\n",
      "epoch  6\n",
      "validation accuracy 0.882\n",
      "epoch  7\n",
      "validation accuracy 0.893\n",
      "epoch  8\n",
      "validation accuracy 0.886\n",
      "epoch  9\n",
      "validation accuracy 0.892\n",
      "epoch  10\n",
      "validation accuracy 0.894\n",
      "epoch  11\n",
      "validation accuracy 0.902\n",
      "epoch  12\n",
      "validation accuracy 0.917\n",
      "epoch  13\n",
      "validation accuracy 0.919\n",
      "epoch  14\n",
      "validation accuracy 0.924\n",
      "epoch  15\n",
      "validation accuracy 0.930\n",
      "epoch  16\n",
      "validation accuracy 0.934\n",
      "epoch  17\n",
      "validation accuracy 0.935\n",
      "epoch  18\n",
      "validation accuracy 0.937\n",
      "epoch  19\n",
      "validation accuracy 0.945\n",
      "epoch  20\n",
      "validation accuracy 0.940\n",
      "epoch  21\n",
      "validation accuracy 0.944\n",
      "epoch  22\n",
      "validation accuracy 0.944\n",
      "epoch  23\n",
      "validation accuracy 0.948\n",
      "epoch  24\n",
      "validation accuracy 0.953\n",
      "epoch  25\n",
      "validation accuracy 0.948\n",
      "epoch  26\n",
      "validation accuracy 0.951\n",
      "epoch  27\n",
      "validation accuracy 0.955\n",
      "epoch  28\n",
      "validation accuracy 0.957\n",
      "epoch  29\n",
      "validation accuracy 0.949\n"
     ]
    }
   ],
   "source": [
    "with tf.Session(config=config) as sess:\n",
    "    sess.run(tf.global_variables_initializer())\n",
    "    for i in range(epochs):\n",
    "        print('epoch ', i)\n",
    "        X_current, y_current = shuffle_data(X_train_norm, y_train)\n",
    "        for start in range(0, X_current.shape[0], batch_size):\n",
    "            X_batch, y_batch = X_current[start:start+batch_size], y_current[start:start+batch_size]\n",
    "            sess.run(train_op, feed_dict={X_input:X_batch, y_input:y_batch, keep_prob:0.9 if i<10 else 0.5, rotate_range:np.pi/36, shift_range:1, zoom_range:1.})\n",
    "        print('validation accuracy {:.3f}'.format(evaluate(X_valid_norm, y_valid)))"
   ]
  },
  {
   "cell_type": "markdown",
   "metadata": {},
   "source": [
    "preprocessing: train data centering\n",
    "\n",
    "conv 5x5x3x18, pool2, conv3x3x18x36, pool2, fc 1024, fc 43, lr 0.001, 10 rounds, 0.821\n",
    "\n",
    "conv 5x5x3x18, pool2, conv5x5x18x36, pool2, fc 1024, fc 43, lr 0.001, 10 rounds, 0.785\n",
    "\n",
    "conv 3x3x3x18, pool2, conv3x3x18x36, pool2, fc 1024, fc 43, lr 0.001, 10 rounds, 0.823\n",
    "\n",
    "conv 3x3x3x18, conv 3x3x18x36, pool2, conv 3x3x36x72, pool2, fc 1024, fc 43, lr 0.001, 10 rounds, 0.823\n",
    "\n",
    "add another fc layer 2048->1024, 0.776\n",
    "\n",
    "init stddev 0.1 seems to be much better than others\n",
    "\n",
    "conv 3x3x3x18, pool2, conv3x3x18x36, pool2, dropout 0.9, fc 1024, dropout 0.9, fc 43, lr 0.001, 20 rounds, 0.861\n",
    "\n",
    "conv 3x3x3x18, pool2, conv3x3x18x36, pool2, dropout 0.5, fc 1024, dropout 0.5, fc 43, lr 0.001, 20 rounds, 0.887\n",
    "\n",
    "conv 3x3x3x18, pool2, conv3x3x18x36, pool2, dropout 0.5, fc 2048, dropout 0.5, fc 1024, dropout 0.5, fc 43, lr 0.001, 30 rounds, 0.918, init stddev 0.08 (larger won't train)\n",
    "\n",
    "conv 3x3x3x18, pool2, conv3x3x18x36, pool2, dropout 0.5, fc 2048, dropout 0.5, fc 1024, dropout 0.5, fc 43, lr 0.001, 30 rounds, 0.934, l2 beta 0.001, init stddev 0.08\n",
    "\n",
    "conv 3x3x3x18, pool2, conv3x3x18x36, pool2, dropout 0.5, fc 2048, dropout 0.5, fc 1024, dropout 0.5, fc 43, lr 0.001, 30 rounds, 0.884, l2 beta 0.01, init stddev 0.08\n",
    "\n",
    "conv 3x3x3x18, pool2, conv3x3x18x36, pool2, dropout 0.5, fc 2048, dropout 0.5, fc 1024, dropout 0.5, fc 43, lr 0.001, 30 rounds, 0.930, l2 beta 0.0001, init stddev 0.08\n",
    "\n",
    "tried to add another conv, not good\n",
    "\n",
    "changed first max pool to avg pool, not much diff, 0.927, using avg on second pool, also not much diff\n",
    "\n",
    "tried to reduce first channel to 8, and subsequent to 16, performance dropped, increasing to 24 seems to be about the same level 0.93\n",
    "\n",
    "added some simple brightness adjustment, didn't help\n",
    "\n",
    "replaced previous centering with per image standardization\n",
    "\n",
    "conv 3x3x3x16, pool2, conv3x3x18x32, pool2, dropout 0.5, fc 1024, dropout 0.5, fc 43, lr 0.001, 23 rounds, 0.942, l2 beta 0.0001, init stddev 0.08\n",
    "\n",
    "conv 5x5x3x16, pool2, conv5x5x18x32, pool2, dropout 0.5, fc 1024, dropout 0.5, fc 43, lr 0.001, 30 rounds, 0.945, l2 beta 0.0001, init stddev 0.08. seems more stable than 3x3 filters\n",
    "\n",
    "clipping to -1/1 resulted in worse models\n",
    "\n",
    "had a look at value distribution, decided to clip to -5/5, got 0.954\n",
    "\n",
    "lowering dropout to 0.4 wasn't better\n",
    "\n",
    "rotate std pi/36, conv 5x5x3x16, pool2, conv5x5x18x32, pool2, dropout 0.5, fc 1024, dropout 0.5, fc 43, lr 0.001, 30 rounds, 0.945, l2 beta 0.0001, init stddev 0.08. \n",
    "\n",
    "rotate pi/18 about okay, more rotation not better\n",
    "\n",
    "things got a lot worse with shifts, even without rotation, like in 0.92 range, although tuning dropout seems to help. suspect was because the dtype of shift was float. got 0.946 with 1 shift, 2 shift not good (even with different dropout rates)\n",
    "\n",
    "added zoom and varying dropout rate, still about 0.93\n",
    "\n",
    "shift range 1, no zoom no rotate, dropout 1-10 0.9 11-30 0.5, round 30 0.95\n",
    "\n",
    "shift range 1, no zoom, rotate pi/36, dropout 1-10 0.9 11-30 0.5, round 30 0.951\n",
    "\n",
    "same setting, clip 7.5, can potentially get close to 0.96\n",
    "\n",
    "\n"
   ]
  },
  {
   "cell_type": "markdown",
   "metadata": {},
   "source": [
    "---\n",
    "\n",
    "## Step 3: Test a Model on New Images\n",
    "\n",
    "To give yourself more insight into how your model is working, download at least five pictures of German traffic signs from the web and use your model to predict the traffic sign type.\n",
    "\n",
    "You may find `signnames.csv` useful as it contains mappings from the class id (integer) to the actual sign name."
   ]
  },
  {
   "cell_type": "markdown",
   "metadata": {},
   "source": [
    "### Load and Output the Images"
   ]
  },
  {
   "cell_type": "code",
   "execution_count": null,
   "metadata": {
    "collapsed": true
   },
   "outputs": [],
   "source": [
    "### Load the images and plot them here.\n",
    "### Feel free to use as many code cells as needed."
   ]
  },
  {
   "cell_type": "markdown",
   "metadata": {},
   "source": [
    "### Predict the Sign Type for Each Image"
   ]
  },
  {
   "cell_type": "code",
   "execution_count": 3,
   "metadata": {
    "collapsed": true
   },
   "outputs": [],
   "source": [
    "### Run the predictions here and use the model to output the prediction for each image.\n",
    "### Make sure to pre-process the images with the same pre-processing pipeline used earlier.\n",
    "### Feel free to use as many code cells as needed."
   ]
  },
  {
   "cell_type": "markdown",
   "metadata": {},
   "source": [
    "### Analyze Performance"
   ]
  },
  {
   "cell_type": "code",
   "execution_count": 4,
   "metadata": {
    "collapsed": true
   },
   "outputs": [],
   "source": [
    "### Calculate the accuracy for these 5 new images. \n",
    "### For example, if the model predicted 1 out of 5 signs correctly, it's 20% accurate on these new images."
   ]
  },
  {
   "cell_type": "markdown",
   "metadata": {},
   "source": [
    "### Output Top 5 Softmax Probabilities For Each Image Found on the Web"
   ]
  },
  {
   "cell_type": "markdown",
   "metadata": {},
   "source": [
    "For each of the new images, print out the model's softmax probabilities to show the **certainty** of the model's predictions (limit the output to the top 5 probabilities for each image). [`tf.nn.top_k`](https://www.tensorflow.org/versions/r0.12/api_docs/python/nn.html#top_k) could prove helpful here. \n",
    "\n",
    "The example below demonstrates how tf.nn.top_k can be used to find the top k predictions for each image.\n",
    "\n",
    "`tf.nn.top_k` will return the values and indices (class ids) of the top k predictions. So if k=3, for each sign, it'll return the 3 largest probabilities (out of a possible 43) and the correspoding class ids.\n",
    "\n",
    "Take this numpy array as an example. The values in the array represent predictions. The array contains softmax probabilities for five candidate images with six possible classes. `tk.nn.top_k` is used to choose the three classes with the highest probability:\n",
    "\n",
    "```\n",
    "# (5, 6) array\n",
    "a = np.array([[ 0.24879643,  0.07032244,  0.12641572,  0.34763842,  0.07893497,\n",
    "         0.12789202],\n",
    "       [ 0.28086119,  0.27569815,  0.08594638,  0.0178669 ,  0.18063401,\n",
    "         0.15899337],\n",
    "       [ 0.26076848,  0.23664738,  0.08020603,  0.07001922,  0.1134371 ,\n",
    "         0.23892179],\n",
    "       [ 0.11943333,  0.29198961,  0.02605103,  0.26234032,  0.1351348 ,\n",
    "         0.16505091],\n",
    "       [ 0.09561176,  0.34396535,  0.0643941 ,  0.16240774,  0.24206137,\n",
    "         0.09155967]])\n",
    "```\n",
    "\n",
    "Running it through `sess.run(tf.nn.top_k(tf.constant(a), k=3))` produces:\n",
    "\n",
    "```\n",
    "TopKV2(values=array([[ 0.34763842,  0.24879643,  0.12789202],\n",
    "       [ 0.28086119,  0.27569815,  0.18063401],\n",
    "       [ 0.26076848,  0.23892179,  0.23664738],\n",
    "       [ 0.29198961,  0.26234032,  0.16505091],\n",
    "       [ 0.34396535,  0.24206137,  0.16240774]]), indices=array([[3, 0, 5],\n",
    "       [0, 1, 4],\n",
    "       [0, 5, 1],\n",
    "       [1, 3, 5],\n",
    "       [1, 4, 3]], dtype=int32))\n",
    "```\n",
    "\n",
    "Looking just at the first row we get `[ 0.34763842,  0.24879643,  0.12789202]`, you can confirm these are the 3 largest probabilities in `a`. You'll also notice `[3, 0, 5]` are the corresponding indices."
   ]
  },
  {
   "cell_type": "code",
   "execution_count": 6,
   "metadata": {
    "collapsed": true
   },
   "outputs": [],
   "source": [
    "### Print out the top five softmax probabilities for the predictions on the German traffic sign images found on the web. \n",
    "### Feel free to use as many code cells as needed."
   ]
  },
  {
   "cell_type": "markdown",
   "metadata": {},
   "source": [
    "---\n",
    "\n",
    "## Step 4: Visualize the Neural Network's State with Test Images\n",
    "\n",
    " This Section is not required to complete but acts as an additional excersise for understaning the output of a neural network's weights. While neural networks can be a great learning device they are often referred to as a black box. We can understand what the weights of a neural network look like better by plotting their feature maps. After successfully training your neural network you can see what it's feature maps look like by plotting the output of the network's weight layers in response to a test stimuli image. From these plotted feature maps, it's possible to see what characteristics of an image the network finds interesting. For a sign, maybe the inner network feature maps react with high activation to the sign's boundary outline or to the contrast in the sign's painted symbol.\n",
    "\n",
    " Provided for you below is the function code that allows you to get the visualization output of any tensorflow weight layer you want. The inputs to the function should be a stimuli image, one used during training or a new one you provided, and then the tensorflow variable name that represents the layer's state during the training process, for instance if you wanted to see what the [LeNet lab's](https://classroom.udacity.com/nanodegrees/nd013/parts/fbf77062-5703-404e-b60c-95b78b2f3f9e/modules/6df7ae49-c61c-4bb2-a23e-6527e69209ec/lessons/601ae704-1035-4287-8b11-e2c2716217ad/concepts/d4aca031-508f-4e0b-b493-e7b706120f81) feature maps looked like for it's second convolutional layer you could enter conv2 as the tf_activation variable.\n",
    "\n",
    "For an example of what feature map outputs look like, check out NVIDIA's results in their paper [End-to-End Deep Learning for Self-Driving Cars](https://devblogs.nvidia.com/parallelforall/deep-learning-self-driving-cars/) in the section Visualization of internal CNN State. NVIDIA was able to show that their network's inner weights had high activations to road boundary lines by comparing feature maps from an image with a clear path to one without. Try experimenting with a similar test to show that your trained network's weights are looking for interesting features, whether it's looking at differences in feature maps from images with or without a sign, or even what feature maps look like in a trained network vs a completely untrained one on the same sign image.\n",
    "\n",
    "<figure>\n",
    " <img src=\"visualize_cnn.png\" width=\"380\" alt=\"Combined Image\" />\n",
    " <figcaption>\n",
    " <p></p> \n",
    " <p style=\"text-align: center;\"> Your output should look something like this (above)</p> \n",
    " </figcaption>\n",
    "</figure>\n",
    " <p></p> \n"
   ]
  },
  {
   "cell_type": "code",
   "execution_count": null,
   "metadata": {
    "collapsed": true
   },
   "outputs": [],
   "source": [
    "### Visualize your network's feature maps here.\n",
    "### Feel free to use as many code cells as needed.\n",
    "\n",
    "# image_input: the test image being fed into the network to produce the feature maps\n",
    "# tf_activation: should be a tf variable name used during your training procedure that represents the calculated state of a specific weight layer\n",
    "# activation_min/max: can be used to view the activation contrast in more detail, by default matplot sets min and max to the actual min and max values of the output\n",
    "# plt_num: used to plot out multiple different weight feature map sets on the same block, just extend the plt number for each new feature map entry\n",
    "\n",
    "def outputFeatureMap(image_input, tf_activation, activation_min=-1, activation_max=-1 ,plt_num=1):\n",
    "    # Here make sure to preprocess your image_input in a way your network expects\n",
    "    # with size, normalization, ect if needed\n",
    "    # image_input =\n",
    "    # Note: x should be the same name as your network's tensorflow data placeholder variable\n",
    "    # If you get an error tf_activation is not defined it maybe having trouble accessing the variable from inside a function\n",
    "    activation = tf_activation.eval(session=sess,feed_dict={x : image_input})\n",
    "    featuremaps = activation.shape[3]\n",
    "    plt.figure(plt_num, figsize=(15,15))\n",
    "    for featuremap in range(featuremaps):\n",
    "        plt.subplot(6,8, featuremap+1) # sets the number of feature maps to show on each row and column\n",
    "        plt.title('FeatureMap ' + str(featuremap)) # displays the feature map number\n",
    "        if activation_min != -1 & activation_max != -1:\n",
    "            plt.imshow(activation[0,:,:, featuremap], interpolation=\"nearest\", vmin =activation_min, vmax=activation_max, cmap=\"gray\")\n",
    "        elif activation_max != -1:\n",
    "            plt.imshow(activation[0,:,:, featuremap], interpolation=\"nearest\", vmax=activation_max, cmap=\"gray\")\n",
    "        elif activation_min !=-1:\n",
    "            plt.imshow(activation[0,:,:, featuremap], interpolation=\"nearest\", vmin=activation_min, cmap=\"gray\")\n",
    "        else:\n",
    "            plt.imshow(activation[0,:,:, featuremap], interpolation=\"nearest\", cmap=\"gray\")"
   ]
  },
  {
   "cell_type": "markdown",
   "metadata": {},
   "source": [
    "### Question 9\n",
    "\n",
    "Discuss how you used the visual output of your trained network's feature maps to show that it had learned to look for interesting characteristics in traffic sign images\n"
   ]
  },
  {
   "cell_type": "markdown",
   "metadata": {},
   "source": [
    "**Answer:**"
   ]
  },
  {
   "cell_type": "markdown",
   "metadata": {},
   "source": [
    "> **Note**: Once you have completed all of the code implementations and successfully answered each question above, you may finalize your work by exporting the iPython Notebook as an HTML document. You can do this by using the menu above and navigating to  \\n\",\n",
    "    \"**File -> Download as -> HTML (.html)**. Include the finished document along with this notebook as your submission."
   ]
  },
  {
   "cell_type": "markdown",
   "metadata": {},
   "source": [
    "### Project Writeup\n",
    "\n",
    "Once you have completed the code implementation, document your results in a project writeup using this [template](https://github.com/udacity/CarND-Traffic-Sign-Classifier-Project/blob/master/writeup_template.md) as a guide. The writeup can be in a markdown or pdf file. "
   ]
  }
 ],
 "metadata": {
  "anaconda-cloud": {},
  "kernelspec": {
   "display_name": "Python [Root]",
   "language": "python",
   "name": "Python [Root]"
  },
  "language_info": {
   "codemirror_mode": {
    "name": "ipython",
    "version": 3
   },
   "file_extension": ".py",
   "mimetype": "text/x-python",
   "name": "python",
   "nbconvert_exporter": "python",
   "pygments_lexer": "ipython3",
   "version": "3.5.2"
  }
 },
 "nbformat": 4,
 "nbformat_minor": 1
}
